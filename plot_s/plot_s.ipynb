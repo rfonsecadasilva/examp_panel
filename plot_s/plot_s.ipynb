{
 "cells": [
  {
   "cell_type": "code",
   "execution_count": null,
   "metadata": {},
   "outputs": [],
   "source": [
    "import xarray as xr\n",
    "import panel as pn\n",
    "import matplotlib.pyplot as plt\n",
    "#pn.extension(comms=\"vscode\")"
   ]
  },
  {
   "cell_type": "code",
   "execution_count": null,
   "metadata": {},
   "outputs": [],
   "source": [
    "def make_fig(t):\n",
    "    fig,_=plt.subplots()\n",
    "    ds = xr.tutorial.load_dataset('air_temperature')\n",
    "    ds.air.isel(time=t).plot(x=\"lon\",y=\"lat\")\n",
    "    plt.close()\n",
    "    return fig\n",
    "pn.Column(\"## Plot_air_temperature\",pn.Row((pn.interact(make_fig,t=range(100))))).servable()"
   ]
  }
 ],
 "metadata": {
  "kernelspec": {
   "display_name": "renan",
   "language": "python",
   "name": "python3"
  },
  "language_info": {
   "codemirror_mode": {
    "name": "ipython",
    "version": 3
   },
   "file_extension": ".py",
   "mimetype": "text/x-python",
   "name": "python",
   "nbconvert_exporter": "python",
   "pygments_lexer": "ipython3",
   "version": "3.10.4"
  },
  "orig_nbformat": 4
 },
 "nbformat": 4,
 "nbformat_minor": 2
}
